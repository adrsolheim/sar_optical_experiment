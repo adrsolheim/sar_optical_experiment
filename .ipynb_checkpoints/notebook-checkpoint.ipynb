{
 "cells": [
  {
   "cell_type": "code",
   "execution_count": 2,
   "id": "a68f3dfc",
   "metadata": {},
   "outputs": [
    {
     "data": {
      "text/plain": [
       "'3.9.9'"
      ]
     },
     "execution_count": 2,
     "metadata": {},
     "output_type": "execute_result"
    }
   ],
   "source": [
    "from platform import python_version\n",
    "\n",
    "python_version()"
   ]
  },
  {
   "cell_type": "code",
   "execution_count": 5,
   "id": "f34cd72e",
   "metadata": {},
   "outputs": [],
   "source": [
    "from glob import glob\n",
    "\n",
    "from osgeo import gdal\n",
    "\n",
    "import rasterio as rio\n",
    "\n",
    "import earthpy as et\n",
    "import earthpy.spatial as es\n",
    "import earthpy.plot as ep\n",
    "\n",
    "import matplotlib.pyplot as plt\n",
    "import numpy as np\n",
    "from matplotlib.colors import ListedColormap\n",
    "\n",
    "import plotly.graph_objects as go"
   ]
  },
  {
   "cell_type": "code",
   "execution_count": 18,
   "id": "5ceb8f80",
   "metadata": {},
   "outputs": [
    {
     "ename": "AttributeError",
     "evalue": "'DatasetReader' object has no attribute 'data_types'",
     "output_type": "error",
     "traceback": [
      "\u001b[0;31m---------------------------------------------------------------------------\u001b[0m",
      "\u001b[0;31mAttributeError\u001b[0m                            Traceback (most recent call last)",
      "Input \u001b[0;32mIn [18]\u001b[0m, in \u001b[0;36m<module>\u001b[0;34m\u001b[0m\n\u001b[1;32m      7\u001b[0m opt \u001b[38;5;241m=\u001b[39m opt_ds\u001b[38;5;241m.\u001b[39mread()\n\u001b[1;32m      8\u001b[0m sar \u001b[38;5;241m=\u001b[39m sar_ds\u001b[38;5;241m.\u001b[39mread()\n\u001b[0;32m---> 10\u001b[0m \u001b[38;5;28mprint\u001b[39m(\u001b[38;5;124mf\u001b[39m\u001b[38;5;124m'\u001b[39m\u001b[38;5;124mOptical \u001b[39m\u001b[38;5;132;01m{\u001b[39;00mopt\u001b[38;5;241m.\u001b[39mshape\u001b[38;5;132;01m}\u001b[39;00m\u001b[38;5;124m \u001b[39m\u001b[38;5;132;01m{\u001b[39;00mopt_ds\u001b[38;5;241m.\u001b[39mdata_types\u001b[38;5;132;01m}\u001b[39;00m\u001b[38;5;124m'\u001b[39m)\n\u001b[1;32m     11\u001b[0m \u001b[38;5;28mprint\u001b[39m(\u001b[38;5;124mf\u001b[39m\u001b[38;5;124m'\u001b[39m\u001b[38;5;124mSAR \u001b[39m\u001b[38;5;132;01m{\u001b[39;00msar\u001b[38;5;241m.\u001b[39mshape\u001b[38;5;132;01m}\u001b[39;00m\u001b[38;5;124m'\u001b[39m)\n",
      "\u001b[0;31mAttributeError\u001b[0m: 'DatasetReader' object has no attribute 'data_types'"
     ]
    }
   ],
   "source": [
    "optical_images = glob(\"data/optical_Askvoll/GeoEye-1/*.tif\")\n",
    "SAR_images = glob(\"data/SAR_Askvoll/SAR/*.tif\")\n",
    "\n",
    "opt_ds = rio.open(optical_images[0])\n",
    "sar_ds = rio.open(SAR_images[0])\n",
    "\n",
    "opt = opt_ds.read()\n",
    "sar = sar_ds.read()"
   ]
  },
  {
   "cell_type": "code",
   "execution_count": 22,
   "id": "373fbae2",
   "metadata": {},
   "outputs": [
    {
     "name": "stdout",
     "output_type": "stream",
     "text": [
      "Optical (3, 20599, 23167) with data types ('uint8', 'uint8', 'uint8')\n",
      "SAR (1, 5910, 8285) with data types ('float32',)\n"
     ]
    }
   ],
   "source": [
    "print(f'Optical {opt.shape} with data types {opt_ds.dtypes}')\n",
    "print(f'SAR {sar.shape} with data types {sar_ds.dtypes}')"
   ]
  },
  {
   "cell_type": "code",
   "execution_count": 24,
   "id": "dd255e32",
   "metadata": {},
   "outputs": [
    {
     "name": "stdout",
     "output_type": "stream",
     "text": [
      "Optical BoundingBox(left=289150.0, bottom=6804020.800000001, right=298416.8, top=6812260.4)\n",
      "SAR BoundingBox(left=289618.70833304606, bottom=6804640.725289596, right=297903.70833304606, top=6810550.725289596)\n"
     ]
    }
   ],
   "source": [
    "print(f'Optical {opt_ds.bounds}')\n",
    "print(f'SAR {sar_ds.bounds}')"
   ]
  },
  {
   "cell_type": "code",
   "execution_count": 25,
   "id": "eac50f68",
   "metadata": {},
   "outputs": [
    {
     "name": "stdout",
     "output_type": "stream",
     "text": [
      "Optical EPSG:32632\n",
      "SAR EPSG:32632\n"
     ]
    }
   ],
   "source": [
    "print(f'Optical {opt_ds.crs}')\n",
    "print(f'SAR {sar_ds.crs}')"
   ]
  }
 ],
 "metadata": {
  "kernelspec": {
   "display_name": "Python 3 (ipykernel)",
   "language": "python",
   "name": "python3"
  },
  "language_info": {
   "codemirror_mode": {
    "name": "ipython",
    "version": 3
   },
   "file_extension": ".py",
   "mimetype": "text/x-python",
   "name": "python",
   "nbconvert_exporter": "python",
   "pygments_lexer": "ipython3",
   "version": "3.9.9"
  }
 },
 "nbformat": 4,
 "nbformat_minor": 5
}
